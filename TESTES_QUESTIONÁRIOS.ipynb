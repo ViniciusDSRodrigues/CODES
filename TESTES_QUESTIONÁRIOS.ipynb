{
 "cells": [
  {
   "cell_type": "code",
   "execution_count": 1,
   "id": "ec594818",
   "metadata": {},
   "outputs": [
    {
     "name": "stdout",
     "output_type": "stream",
     "text": [
      "91\n"
     ]
    }
   ],
   "source": [
    "#Primeira questão do questionário.\n",
    "k = 0\n",
    "soma = 0\n",
    "indice = 13\n",
    "\n",
    "while k < indice:\n",
    "    k += 1\n",
    "    soma += k\n",
    "    \n",
    "print(soma)"
   ]
  },
  {
   "cell_type": "code",
   "execution_count": 19,
   "id": "b76f9eb7",
   "metadata": {},
   "outputs": [
    {
     "name": "stdout",
     "output_type": "stream",
     "text": [
      "Digite um número: 5\n",
      "5 pertence à sequência de Fibonacci.\n"
     ]
    }
   ],
   "source": [
    "#QUESTIONÁRIO - QUESTÃO SEQUÊNCIA FIBONACCI.\n",
    "def sequencia_fibonacci(x):\n",
    "    a, b = 0, 1\n",
    "    while b < x:\n",
    "        a, b = b, a + b\n",
    "    if b == x:\n",
    "        return True\n",
    "    else:\n",
    "        return False\n",
    "\n",
    "num = int(input(\"Digite um número: \"))\n",
    "if sequencia_fibonacci(num):\n",
    "    print(num, \"pertence à sequência de Fibonacci.\")\n",
    "else:\n",
    "    print(num, \"não pertence à sequência de Fibonacci.\")\n",
    "\n"
   ]
  },
  {
   "cell_type": "code",
   "execution_count": 63,
   "id": "b1c2dd63",
   "metadata": {},
   "outputs": [
    {
     "name": "stdout",
     "output_type": "stream",
     "text": [
      "O menor faturamento dentro desse mês foi 583.00R$\n",
      "O menor faturamento dentro desse mês foi 14.642.00R$\n",
      "O dia 1 vendeu 11.421.00R$ e está acima da média mensal que é 7.250.35R$.\n",
      "O dia 2 vendeu 7.453.00R$ e está acima da média mensal que é 7.250.35R$.\n",
      "O dia 4 vendeu 9.284.00R$ e está acima da média mensal que é 7.250.35R$.\n",
      "O dia 7 vendeu 14.292.00R$ e está acima da média mensal que é 7.250.35R$.\n",
      "O dia 10 vendeu 7.948.00R$ e está acima da média mensal que é 7.250.35R$.\n",
      "O dia 14 vendeu 14.642.00R$ e está acima da média mensal que é 7.250.35R$.\n",
      "O dia 17 vendeu 13.403.00R$ e está acima da média mensal que é 7.250.35R$.\n",
      "O dia 18 vendeu 12.102.00R$ e está acima da média mensal que é 7.250.35R$.\n",
      "O dia 20 vendeu 13.015.00R$ e está acima da média mensal que é 7.250.35R$.\n",
      "O dia 22 vendeu 11.986.00R$ e está acima da média mensal que é 7.250.35R$.\n",
      "O dia 23 vendeu 13.929.00R$ e está acima da média mensal que é 7.250.35R$.\n",
      "O dia 24 vendeu 13.450.00R$ e está acima da média mensal que é 7.250.35R$.\n",
      "O dia 26 vendeu 7.341.00R$ e está acima da média mensal que é 7.250.35R$.\n",
      "O dia 27 vendeu 7.767.00R$ e está acima da média mensal que é 7.250.35R$.\n",
      "O dia 29 vendeu 10.149.00R$ e está acima da média mensal que é 7.250.35R$.\n"
     ]
    }
   ],
   "source": [
    "#QUESTIONÁRIO - QUESTÃO DE UMA DISTRIBUIDORA COM INFORMAÇÕES DE SEU FATURAMENTO.\n",
    "#OBS: OS NÚMEROS SÃO FÍCITIOS. USEM A BIBLIOTECA RANDOM PARA GERAR NÚMEROS FÍCITIOS E FAZER Á LÓGICA DO PROGRAMA REQUERIDO.\n",
    "import random\n",
    "import statistics\n",
    "faturamento_dict = {}\n",
    "dia = 0\n",
    "def formatar_real(valor):\n",
    "    return \"{:,.2f}\".format(valor).replace(',','_').replace(',','.').replace('_','.')\n",
    "def formatar_percent(valor):\n",
    "    return \"{:,.2%}\".format(valor)\n",
    "for i in range(31):\n",
    "    i += 1\n",
    "    dia += i\n",
    "    valor = random.randint(0, 15000)\n",
    "    faturamento_dict[i] = valor\n",
    "\n",
    "\n",
    "menor_valor = min(faturamento_dict.values())\n",
    "maior_valor = max(faturamento_dict.values())\n",
    "media_mensal = statistics.mean(faturamento_dict.values())\n",
    "print(f'O menor faturamento dentro desse mês foi {formatar_real(menor_valor)}R$')\n",
    "print(f'O menor faturamento dentro desse mês foi {formatar_real(maior_valor)}R$')\n",
    "for dia, valor in faturamento_dict.items():\n",
    "    if valor > media_mensal:\n",
    "        print(f'O dia {dia} vendeu {formatar_real(valor)}R$ e está acima da média mensal que é {formatar_real(media_mensal)}R$.')\n"
   ]
  },
  {
   "cell_type": "code",
   "execution_count": 76,
   "id": "748c8d76",
   "metadata": {},
   "outputs": [
    {
     "name": "stdout",
     "output_type": "stream",
     "text": [
      "A distribuidora SP teve 37.53% do valor total 18.075.998.00 mensal da distribuidora.\n",
      "A distribuidora RJ teve 20.29% do valor total 18.075.998.00 mensal da distribuidora.\n",
      "A distribuidora MG teve 16.17% do valor total 18.075.998.00 mensal da distribuidora.\n",
      "A distribuidora ES teve 15.03% do valor total 18.075.998.00 mensal da distribuidora.\n"
     ]
    }
   ],
   "source": [
    "#QUESTIONÁRIO - QUESTÃO DE UMA DISTRIBUIDORA COM INFORMAÇÕES DE FATURAMENTO PÔR ESTADO.\n",
    "dicionario_distribuidora = {\"SP\": 6783643,\n",
    "\"RJ\": 3667866,\n",
    "\"MG\": 2922988,\n",
    "\"ES\": 2716548,\n",
    "\"fat_OUTROS\": 1984953,}\n",
    "dicionario_distribuidora_percent = {}\n",
    "\n",
    "soma = sum(dicionario_distribuidora.values())\n",
    "#print(soma)\n",
    "\n",
    "\n",
    "for distribuidora, valor in dicionario_distribuidora.items():\n",
    "    percentual_venda = valor/soma\n",
    "    #dicionario_distribuidora_percent[distribuidora] = percentual_venda\n",
    "    if distribuidora != \"fat_OUTROS\":\n",
    "        print(f\"A distribuidora {distribuidora} teve {formatar_percent(percentual_venda)} do valor total {formatar(soma)} mensal da distribuidora.\")\n",
    "    else:\n",
    "        pass\n",
    "\n",
    "    \n",
    "    \n"
   ]
  },
  {
   "cell_type": "code",
   "execution_count": 83,
   "id": "4b118c0b",
   "metadata": {},
   "outputs": [
    {
     "name": "stdout",
     "output_type": "stream",
     "text": [
      "Por favor, informe uma string para que possamos invertê-la. Aprender é uma dádiva.\n",
      ".avidád amu é rednerpA\n"
     ]
    }
   ],
   "source": [
    "#QUESTIONÁRIO - QUESTÃO INVERTER UMA STRING SEM USAR FUNÇÕES JÁ EXISTENTES.\n",
    "def inverter_carater(string):\n",
    "    nova_string = ''\n",
    "    for i, caracter in enumerate(string):\n",
    "        i += 1\n",
    "        i *= -1\n",
    "        nova_string += string[i]\n",
    "    return print(nova_string)\n",
    "\n",
    "usuario_string = input(str(\"Por favor, informe uma string para que possamos invertê-la. \"))\n",
    "inverter_carater(usuario_string)\n"
   ]
  },
  {
   "cell_type": "code",
   "execution_count": null,
   "id": "d75e8b11",
   "metadata": {},
   "outputs": [],
   "source": []
  }
 ],
 "metadata": {
  "kernelspec": {
   "display_name": "Python 3 (ipykernel)",
   "language": "python",
   "name": "python3"
  },
  "language_info": {
   "codemirror_mode": {
    "name": "ipython",
    "version": 3
   },
   "file_extension": ".py",
   "mimetype": "text/x-python",
   "name": "python",
   "nbconvert_exporter": "python",
   "pygments_lexer": "ipython3",
   "version": "3.9.12"
  }
 },
 "nbformat": 4,
 "nbformat_minor": 5
}
