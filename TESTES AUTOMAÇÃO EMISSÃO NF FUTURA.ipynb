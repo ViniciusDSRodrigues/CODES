{
 "cells": [
  {
   "cell_type": "markdown",
   "id": "3ca062c8",
   "metadata": {},
   "source": [
    "#### OBSERVAÇÕES DESSAS AUTOMAÇÕES NO WORD NA ÁREA DE TRABALHO E NO CAMINHO ONDE TEM AS FOTOS DOS WHILES"
   ]
  },
  {
   "cell_type": "code",
   "execution_count": 6,
   "id": "524381db",
   "metadata": {
    "scrolled": false
   },
   "outputs": [
    {
     "name": "stdout",
     "output_type": "stream",
     "text": [
      "still haven't found the image google\n",
      "still haven't found the image google\n",
      "still haven't found the image 1\n",
      "still haven't found the image 1\n",
      "still haven't found the image 2\n",
      "still haven't found the image 2\n",
      "still haven't found the image 2\n",
      "still haven't found the image 3\n",
      "still haven't found the image 3\n"
     ]
    },
    {
     "data": {
      "text/plain": [
       "'OK'"
      ]
     },
     "execution_count": 6,
     "metadata": {},
     "output_type": "execute_result"
    }
   ],
   "source": [
    "###### SEMPRE OBSERVAR SE NA DESCRIÇÃO CONSTA ALGUM \"\\T\", SE TIVER, VAI PULAR LINHA.\n",
    "###### ISSO OCORRE MUITO AO PÔR A DESCRIÇÃO MANUALMENTE QUANDO TEM MAIS DE UMA LINHA.\n",
    "###### AS QUE PEGO NO HISTÓRICO, NÃO OCORRE ISSO. NÃO DAR MOLE!!\n",
    "import py\n",
    "import pyautogui\n",
    "import time\n",
    "import pyperclip\n",
    "\n",
    "fim = \"Seu código foi finalizado.\"\n",
    "inicio = \"Seu código irá iniciar. Pare de usar o computador\"\n",
    "img = pyautogui.locateOnScreen('google.png', confidence=0.8)\n",
    "img_1 = pyautogui.locateOnScreen('compliance_1.png', confidence=0.9)\n",
    "img_2 = pyautogui.locateOnScreen('compliance_2.png', confidence=0.9)\n",
    "img_3 = pyautogui.locateOnScreen('compliance_3.png', confidence=0.9)\n",
    "\n",
    "pyautogui.alert(inicio)\n",
    "\n",
    "####UMA POSSÍVEL MELHORIA SÃO PARA OS ERROS QUE OCORREM QUANDO PUXO DESCRIÇÃO NA MÃO DE PASSAR DIRETO COM ‘’\\T’’\n",
    "####, DÁ PARA FAZER UM LEN COM O TAMANHO DA DESCRIÇÃO E PÔR UM IF P EVITAR ESSE ERRO SEM TER Q FICAR OLHANDO NO OLHO\n",
    "####ESSE ‘’\\T’’ QUE É RARO, MAS POSSÍVEL DE PASSAR, POIS PEGO ALGUMAS DESCRIÇÕES NA MÃO. VER ESSA MELHORIA. ***\n",
    "\n",
    "\n",
    "time.sleep(1)\n",
    "pyautogui.press('win')\n",
    "time.sleep(2.0)\n",
    "pyautogui.write('google')\n",
    "time.sleep(2.0)\n",
    "pyautogui.press('enter')\n",
    "while img == None:\n",
    "    img = pyautogui.locateOnScreen('google.png')\n",
    "    time.sleep (1.0)\n",
    "    print(\"still haven't found the image google\")\n",
    "pyperclip.copy(r\"https://brmalls.compliancefiscal.com.br/complianceEnterpriseServer/login.seam?cid=169\")\n",
    "time.sleep(1.0)\n",
    "pyautogui.hotkey('ctrl', 'v')\n",
    "time.sleep(1.0)\n",
    "pyautogui.press('enter')\n",
    "while img_1 == None:\n",
    "    img_1 = pyautogui.locateOnScreen('compliance_1.png')\n",
    "    time.sleep (1.0)\n",
    "    print(\"still haven't found the image 1\")\n",
    "pyautogui.click(x=947, y=620)\n",
    "time.sleep(1.0)\n",
    "while img_2 == None:\n",
    "    img_2 = pyautogui.locateOnScreen('compliance_2.png')\n",
    "    time.sleep (1.0)\n",
    "    print(\"still haven't found the image 2\")\n",
    "pyautogui.moveTo(x=285, y=198)\n",
    "time.sleep(2.0)\n",
    "pyautogui.moveTo(x=350, y=246)\n",
    "time.sleep(2.0)\n",
    "pyautogui.click(x=662, y=354)\n",
    "time.sleep(2.0)\n",
    "while img_3 == None:\n",
    "    img_3 = pyautogui.locateOnScreen('compliance_3.png')\n",
    "    time.sleep (1.0)\n",
    "    print(\"still haven't found the image 3\")\n",
    "\n",
    "###### SEMPRE OBSERVAR SE NA DESCRIÇÃO CONSTA ALGUM \"\\T\", SE TIVER, VAI PULAR LINHA.\n",
    "###### ISSO OCORRE MUITO AO PÔR A DESCRIÇÃO MANUALMENTE QUANDO TEM MAIS DE UMA LINHA.\n",
    "###### AS QUE PEGO NO HISTÓRICO, NÃO OCORRE ISSO. NÃO DAR MOLE!!\n",
    "\n",
    "pyautogui.alert(\"Seu código já chegou na parte de emitir NF's\")"
   ]
  },
  {
   "cell_type": "code",
   "execution_count": null,
   "id": "36718fb4",
   "metadata": {},
   "outputs": [],
   "source": []
  },
  {
   "cell_type": "code",
   "execution_count": 7,
   "id": "6e8dacdb",
   "metadata": {
    "scrolled": false
   },
   "outputs": [
    {
     "data": {
      "text/html": [
       "<div>\n",
       "<style scoped>\n",
       "    .dataframe tbody tr th:only-of-type {\n",
       "        vertical-align: middle;\n",
       "    }\n",
       "\n",
       "    .dataframe tbody tr th {\n",
       "        vertical-align: top;\n",
       "    }\n",
       "\n",
       "    .dataframe thead th {\n",
       "        text-align: right;\n",
       "    }\n",
       "</style>\n",
       "<table border=\"1\" class=\"dataframe\">\n",
       "  <thead>\n",
       "    <tr style=\"text-align: right;\">\n",
       "      <th></th>\n",
       "      <th>CODIGO</th>\n",
       "      <th>RPS</th>\n",
       "      <th>VALOR</th>\n",
       "      <th>CNPJ</th>\n",
       "      <th>DESCRIÇÃO NF</th>\n",
       "    </tr>\n",
       "  </thead>\n",
       "  <tbody>\n",
       "    <tr>\n",
       "      <th>0</th>\n",
       "      <td>172501</td>\n",
       "      <td>11589</td>\n",
       "      <td>160,000.00</td>\n",
       "      <td>04088208000165</td>\n",
       "      <td>MIDIA DIGITAL - SEM PARAR - REF PI CARTA ACORD...</td>\n",
       "    </tr>\n",
       "    <tr>\n",
       "      <th>1</th>\n",
       "      <td>172501</td>\n",
       "      <td>11094</td>\n",
       "      <td>8,915.60</td>\n",
       "      <td>33247743000110</td>\n",
       "      <td>MIDIA DIGITAL - GSK - CIRCUITO DIGITAL - REF P...</td>\n",
       "    </tr>\n",
       "    <tr>\n",
       "      <th>2</th>\n",
       "      <td>172501</td>\n",
       "      <td>11180</td>\n",
       "      <td>10,200.00</td>\n",
       "      <td>27865757008340</td>\n",
       "      <td>MIDIA DIGITAL - GLOBOSAT - REFERENTE A PI GLO...</td>\n",
       "    </tr>\n",
       "    <tr>\n",
       "      <th>3</th>\n",
       "      <td>172501</td>\n",
       "      <td>10960</td>\n",
       "      <td>15,500.00</td>\n",
       "      <td>37526019000267</td>\n",
       "      <td>PI: 27893 - CAMPANHA: QUINTAL SESC - VALOR DE ...</td>\n",
       "    </tr>\n",
       "  </tbody>\n",
       "</table>\n",
       "</div>"
      ],
      "text/plain": [
       "   CODIGO    RPS       VALOR            CNPJ  \\\n",
       "0  172501  11589  160,000.00  04088208000165   \n",
       "1  172501  11094    8,915.60  33247743000110   \n",
       "2  172501  11180   10,200.00  27865757008340   \n",
       "3  172501  10960   15,500.00  37526019000267   \n",
       "\n",
       "                                        DESCRIÇÃO NF  \n",
       "0  MIDIA DIGITAL - SEM PARAR - REF PI CARTA ACORD...  \n",
       "1  MIDIA DIGITAL - GSK - CIRCUITO DIGITAL - REF P...  \n",
       "2   MIDIA DIGITAL - GLOBOSAT - REFERENTE A PI GLO...  \n",
       "3  PI: 27893 - CAMPANHA: QUINTAL SESC - VALOR DE ...  "
      ]
     },
     "metadata": {},
     "output_type": "display_data"
    }
   ],
   "source": [
    "###### SEMPRE OBSERVAR SE NA DESCRIÇÃO CONSTA ALGUM \"\\T\", SE TIVER, VAI PULAR LINHA.\n",
    "###### ISSO OCORRE MUITO AO PÔR A DESCRIÇÃO MANUALMENTE QUANDO TEM MAIS DE UMA LINHA.\n",
    "###### AS QUE PEGO NO HISTÓRICO, NÃO OCORRE ISSO. NÃO DAR MOLE!!\n",
    "\n",
    "import pandas as pd\n",
    "import py\n",
    "\n",
    "\n",
    "def corrigir_cnpjs(cnpj):\n",
    "    cnpj = cnpj.replace('/','').replace('-','').replace('.','')\n",
    "    return cnpj\n",
    "\n",
    "\n",
    "####UMA POSSÍVEL MELHORIA SÃO PARA OS ERROS QUE OCORREM QUANDO PUXO DESCRIÇÃO NA MÃO DE PASSAR DIRETO COM ‘’\\T’’\n",
    "####, DÁ PARA FAZER UM LEN COM O TAMANHO DA DESCRIÇÃO E PÔR UM IF P EVITAR ESSE ERRO SEM TER Q FICAR OLHANDO NO OLHO\n",
    "####ESSE ‘’\\T’’ QUE É RARO, MAS POSSÍVEL DE PASSAR, POIS PEGO ALGUMAS DESCRIÇÕES NA MÃO. VER ESSA MELHORIA. ***\n",
    "\n",
    "def formatar(valor):\n",
    "    return \"{:,.2f}\".format(valor)\n",
    "\n",
    "\n",
    "tabela = pd.read_excel(\"BASE DE DADOS.NF.xlsx\")\n",
    "\n",
    "\n",
    "tabela['CNPJ'] = tabela['CNPJ'].astype(str)\n",
    "\n",
    "tabela['CNPJ'] = tabela['CNPJ'].apply(corrigir_cnpjs)\n",
    "\n",
    "tabela['VALOR'] = tabela['VALOR'].apply(formatar)\n",
    "\n",
    "\n",
    "display(tabela)\n",
    "###### SEMPRE OBSERVAR SE NA DESCRIÇÃO CONSTA ALGUM \"\\T\", SE TIVER, VAI PULAR LINHA.\n",
    "###### ISSO OCORRE MUITO AO PÔR A DESCRIÇÃO MANUALMENTE QUANDO TEM MAIS DE UMA LINHA.\n",
    "###### AS QUE PEGO NO HISTÓRICO, NÃO OCORRE ISSO. NÃO DAR MOLE!!"
   ]
  },
  {
   "cell_type": "markdown",
   "id": "e18077eb",
   "metadata": {},
   "source": [
    "#### OBSERVAÇÕES DESSAS AUTOMAÇÕES NO WORD NA ÁREA DE TRABALHO E NO CAMINHO ONDE TEM AS FOTOS DOS WHILES"
   ]
  },
  {
   "cell_type": "code",
   "execution_count": 8,
   "id": "f38542ca",
   "metadata": {
    "scrolled": true
   },
   "outputs": [
    {
     "name": "stdout",
     "output_type": "stream",
     "text": [
      "still haven't found the image 5\n",
      "still haven't found the image 5\n",
      "still haven't found the image 7\n",
      "still haven't found the image 7\n",
      "still haven't found the image 7\n",
      "still haven't found the image 7\n",
      "still haven't found the image 7\n",
      "still haven't found the image 7\n",
      "still haven't found the image 7\n",
      "still haven't found the image 7\n",
      "still haven't found the image 5\n",
      "still haven't found the image 7\n",
      "still haven't found the image 7\n",
      "still haven't found the image 7\n",
      "still haven't found the image 7\n",
      "still haven't found the image 7\n",
      "still haven't found the image 7\n",
      "still haven't found the image 7\n",
      "still haven't found the image 7\n"
     ]
    }
   ],
   "source": [
    "###### SEMPRE OBSERVAR SE NA DESCRIÇÃO CONSTA ALGUM \"\\T\", SE TIVER, VAI PULAR LINHA.\n",
    "###### ISSO OCORRE MUITO AO PÔR A DESCRIÇÃO MANUALMENTE QUANDO TEM MAIS DE UMA LINHA.\n",
    "###### AS QUE PEGO NO HISTÓRICO, NÃO OCORRE ISSO. NÃO DAR MOLE!!\n",
    "pyautogui.alert(\"Seu código irá iniciar a emissão das NFs.\")\n",
    "time.sleep(2.0)\n",
    "\n",
    "####UMA POSSÍVEL MELHORIA SÃO PARA OS ERROS QUE OCORREM QUANDO PUXO DESCRIÇÃO NA MÃO DE PASSAR DIRETO COM ‘’\\T’’\n",
    "####, DÁ PARA FAZER UM LEN COM O TAMANHO DA DESCRIÇÃO E PÔR UM IF P EVITAR ESSE ERRO SEM TER Q FICAR OLHANDO NO OLHO\n",
    "####ESSE ‘’\\T’’ QUE É RARO, MAS POSSÍVEL DE PASSAR, POIS PEGO ALGUMAS DESCRIÇÕES NA MÃO. VER ESSA MELHORIA. ***\n",
    "\n",
    "for i, codigo in enumerate(tabela[\"CODIGO\"]):\n",
    "    rps = tabela.loc[i, \"RPS\"]\n",
    "    valor = tabela.loc[i, \"VALOR\"]\n",
    "    cnpj = tabela.loc[i, \"CNPJ\"]\n",
    "    descricao = tabela.loc[i, \"DESCRIÇÃO NF\"]\n",
    "  \n",
    "    pyautogui.click(x=227, y=496)\n",
    "    time.sleep(1.0)\n",
    "    img_4 = pyautogui.locateOnScreen('compliance_5.png', confidence=0.9)\n",
    "    while img_4 == None:\n",
    "        img_4 = pyautogui.locateOnScreen('compliance_5.png')\n",
    "        time.sleep (1.0)\n",
    "        print(\"still haven't found the image 4\")\n",
    "    pyautogui.click(x=488, y=301)\n",
    "    time.sleep(2.5)\n",
    "    pyautogui.write(str(codigo))\n",
    "    time.sleep(2.5)\n",
    "    pyautogui.hotkey('tab')\n",
    "    while img_5 == None:\n",
    "        img_5 = pyautogui.locateOnScreen('compliance_16.png')\n",
    "        time.sleep (1.0)\n",
    "        print(\"still haven't found the image 5\")\n",
    "    pyautogui.click(x=739, y=360, clicks=2)\n",
    "    time.sleep(1.5)\n",
    "    pyautogui.write(str(rps))\n",
    "    time.sleep(1.5)\n",
    "    pyautogui.hotkey('tab')\n",
    "    time.sleep(1.5)\n",
    "    pyautogui.click(x=536, y=417, clicks=2)\n",
    "    time.sleep(2.0)\n",
    "    pyautogui.write(str(valor))\n",
    "    time.sleep(2.0)\n",
    "    pyautogui.hotkey('tab')\n",
    "    time.sleep(2.5)\n",
    "    pyautogui.click(x=1182, y=421)\n",
    "    time.sleep(1.5)\n",
    "    pyautogui.click(x=1125, y=464)\n",
    "    time.sleep(1.5)\n",
    "    pyautogui.click(x=482, y=477)\n",
    "    time.sleep(1.5)\n",
    "    pyautogui.write(str(cnpj))\n",
    "    time.sleep(1.5)\n",
    "    pyautogui.hotkey('tab')\n",
    "    time.sleep(2.5)\n",
    "    pyautogui.moveTo(x=1182, y=421)\n",
    "    time.sleep(1.0)\n",
    "    img_6 = pyautogui.locateOnScreen('compliance_15.png', confidence=0.9)\n",
    "    time.sleep(1.0)\n",
    "    if not img_6 == None:\n",
    "        pyautogui.alert('Cadastro inexistente')\n",
    "        break\n",
    "    else:\n",
    "        pass\n",
    "    time.sleep(1.5)\n",
    "    pyautogui.click(x=846, y=582, clicks=3)\n",
    "    time.sleep(2.5)\n",
    "    pyautogui.hotkey('delete')\n",
    "    time.sleep(2.5)\n",
    "    pyautogui.write(descricao)\n",
    "    time.sleep(2.5)\n",
    "    pyautogui.hotkey('tab')\n",
    "    img_7 = pyautogui.locateOnScreen('compliance_13.png', confidence=0.9)\n",
    "    while img_7 == None:\n",
    "        img_7 = pyautogui.locateOnScreen('compliance_13.png')\n",
    "        time.sleep(1.0)\n",
    "        print(\"still haven't found the image 7\")\n",
    "    pyautogui.click(x=1462, y=865)\n",
    "    time.sleep(1.0)\n",
    "    img_8 = pyautogui.locateOnScreen('compliance_6.png', confidence=0.9)\n",
    "    while img_8 == None:\n",
    "        img_8 = pyautogui.locateOnScreen('compliance_6.png')\n",
    "        time.sleep(1.0)\n",
    "        print(\"still haven't found the image 8\")\n",
    "    pyautogui.click(x=947, y=582)\n",
    "    time.sleep(1.5)\n",
    "    img_9 = pyautogui.locateOnScreen('compliance_14.png', confidence=0.9)\n",
    "    while img_9 == None:\n",
    "        img_9 = pyautogui.locateOnScreen('compliance_14.png')\n",
    "        time.sleep(1.0)\n",
    "        print(\"still haven't found the image 9\")\n",
    "    pyautogui.click(x=1397, y=863)\n",
    "    time.sleep(1.0)\n",
    "    img_10 = pyautogui.locateOnScreen('compliance_6.png', confidence=0.9)\n",
    "    while img_10 == None:\n",
    "        img_10 = pyautogui.locateOnScreen('compliance_6.png')\n",
    "        time.sleep(1.0)\n",
    "        print(\"still haven't found the image 10\")\n",
    "    pyautogui.click(x=947, y=582)\n",
    "    time.sleep(2.0)\n",
    "    pyautogui.click(x=1503, y=235)\n",
    "    time.sleep(1.0)\n",
    "###### SEMPRE OBSERVAR SE NA DESCRIÇÃO CONSTA ALGUM \"\\T\", SE TIVER, VAI PULAR LINHA.\n",
    "###### ISSO OCORRE MUITO AO PÔR A DESCRIÇÃO MANUALMENTE QUANDO TEM MAIS DE UMA LINHA.\n",
    "###### AS QUE PEGO NO HISTÓRICO, NÃO OCORRE ISSO. NÃO DAR MOLE!!"
   ]
  },
  {
   "cell_type": "code",
   "execution_count": 9,
   "id": "22e85f01",
   "metadata": {},
   "outputs": [
    {
     "data": {
      "text/plain": [
       "Point(x=1503, y=235)"
      ]
     },
     "execution_count": 9,
     "metadata": {},
     "output_type": "execute_result"
    }
   ],
   "source": [
    "import pyautogui \n",
    "pyautogui.position()"
   ]
  },
  {
   "cell_type": "code",
   "execution_count": 10,
   "id": "0736e725",
   "metadata": {},
   "outputs": [
    {
     "data": {
      "text/plain": [
       "'OK'"
      ]
     },
     "execution_count": 10,
     "metadata": {},
     "output_type": "execute_result"
    }
   ],
   "source": [
    "\n",
    "time.sleep(2.0)\n",
    "pyautogui.alert(fim)"
   ]
  },
  {
   "cell_type": "code",
   "execution_count": null,
   "id": "ab63cc52",
   "metadata": {},
   "outputs": [],
   "source": []
  }
 ],
 "metadata": {
  "kernelspec": {
   "display_name": "Python 3 (ipykernel)",
   "language": "python",
   "name": "python3"
  },
  "language_info": {
   "codemirror_mode": {
    "name": "ipython",
    "version": 3
   },
   "file_extension": ".py",
   "mimetype": "text/x-python",
   "name": "python",
   "nbconvert_exporter": "python",
   "pygments_lexer": "ipython3",
   "version": "3.9.12"
  }
 },
 "nbformat": 4,
 "nbformat_minor": 5
}
